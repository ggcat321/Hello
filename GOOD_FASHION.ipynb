{
  "cells": [
    {
      "cell_type": "code",
      "execution_count": 7,
      "id": "9acac7cb",
      "metadata": {
        "colab": {
          "base_uri": "https://localhost:8080/"
        },
        "id": "9acac7cb",
        "outputId": "46b1aaa2-2073-4be5-82e3-c6f126446bc0"
      },
      "outputs": [
        {
          "output_type": "stream",
          "name": "stdout",
          "text": [
            "Drive already mounted at /content/drive; to attempt to forcibly remount, call drive.mount(\"/content/drive\", force_remount=True).\n"
          ]
        }
      ],
      "source": [
        "import numpy as np\n",
        "import matplotlib.pyplot as plt\n",
        "import pandas as pd\n",
        "import os\n",
        "\n",
        "from google.colab import files, drive\n",
        "drive.mount(\"/content/drive\")"
      ]
    },
    {
      "cell_type": "code",
      "execution_count": 8,
      "id": "58ce5f6c",
      "metadata": {
        "id": "58ce5f6c"
      },
      "outputs": [],
      "source": [
        "os.chdir(r\"/content/drive/MyDrive/cvv/\")\n",
        "df_train = pd.read_csv(\"fashion-mnist_train.csv\")\n",
        "df_test = pd.read_csv(\"fashion-mnist_test.csv\")"
      ]
    },
    {
      "cell_type": "markdown",
      "id": "e4e4c6bc",
      "metadata": {
        "id": "e4e4c6bc"
      },
      "source": [
        "# data preprocessing for training set"
      ]
    },
    {
      "cell_type": "code",
      "execution_count": 9,
      "id": "f7b1fa7e",
      "metadata": {
        "colab": {
          "base_uri": "https://localhost:8080/"
        },
        "id": "f7b1fa7e",
        "outputId": "d80ea495-923d-4488-a095-6c290b3513ae"
      },
      "outputs": [
        {
          "output_type": "execute_result",
          "data": {
            "text/plain": [
              "(60000, 10)"
            ]
          },
          "metadata": {},
          "execution_count": 9
        }
      ],
      "source": [
        "from tensorflow.keras.utils import to_categorical\n",
        "y_train = df_train['label']\n",
        "y_train.shape\n",
        "\n",
        "#y_train = tf.keras.utils.to_categorical(y_train, num_classes=None, dtype='float32')\n",
        "y_train = to_categorical(y_train, 10)\n",
        "y_train.shape"
      ]
    },
    {
      "cell_type": "code",
      "execution_count": 10,
      "id": "6f6364ae",
      "metadata": {
        "colab": {
          "base_uri": "https://localhost:8080/"
        },
        "id": "6f6364ae",
        "outputId": "35a9d0e3-68df-4fd0-ec0d-53eeebe4394e"
      },
      "outputs": [
        {
          "output_type": "execute_result",
          "data": {
            "text/plain": [
              "array([0., 0., 0., 0., 0., 0., 0., 0., 0., 1.], dtype=float32)"
            ]
          },
          "metadata": {},
          "execution_count": 10
        }
      ],
      "source": [
        "y_train[666]"
      ]
    },
    {
      "cell_type": "code",
      "execution_count": 11,
      "id": "d7925659",
      "metadata": {
        "id": "d7925659"
      },
      "outputs": [],
      "source": [
        "x_train = df_train.drop(columns='label')\n",
        "x_train = np.asarray(x_train)\n",
        "\n",
        "x_train.shape\n",
        "#x_train.head()\n",
        "x_train = x_train.reshape((60000, 28, 28,1))"
      ]
    },
    {
      "cell_type": "code",
      "execution_count": 12,
      "id": "67b120cb",
      "metadata": {
        "colab": {
          "base_uri": "https://localhost:8080/"
        },
        "id": "67b120cb",
        "outputId": "7c052961-0ddc-4d78-bba1-1afd7fa76b98"
      },
      "outputs": [
        {
          "output_type": "stream",
          "name": "stdout",
          "text": [
            "(60000, 28, 28, 1)\n",
            "(60000, 10)\n"
          ]
        }
      ],
      "source": [
        "print(x_train.shape)\n",
        "print(y_train.shape)"
      ]
    },
    {
      "cell_type": "code",
      "execution_count": 13,
      "id": "0113efa1",
      "metadata": {
        "colab": {
          "base_uri": "https://localhost:8080/",
          "height": 447
        },
        "id": "0113efa1",
        "outputId": "af616276-80b7-4c7e-ddef-ad433d5a7598"
      },
      "outputs": [
        {
          "output_type": "stream",
          "name": "stdout",
          "text": [
            "[0. 0. 0. 0. 0. 0. 1. 0. 0. 0.]\n"
          ]
        },
        {
          "output_type": "display_data",
          "data": {
            "text/plain": [
              "<Figure size 640x480 with 1 Axes>"
            ],
            "image/png": "[encoded data removed]"
          },
          "metadata": {}
        }
      ],
      "source": [
        "def see_train_image(n):\n",
        "    X = x_train[n].reshape(28,28)\n",
        "    plt.imshow(X, cmap='Greys')\n",
        "n = 2020\n",
        "see_train_image(n)\n",
        "print(y_train[n])"
      ]
    },
    {
      "cell_type": "markdown",
      "id": "c83c03af",
      "metadata": {
        "id": "c83c03af"
      },
      "source": [
        "# Preprocess for testing set\n"
      ]
    },
    {
      "cell_type": "code",
      "execution_count": 14,
      "id": "f3f3cafe",
      "metadata": {
        "id": "f3f3cafe"
      },
      "outputs": [],
      "source": [
        "y_test = df_test['label']\n",
        "y_test.shape\n",
        "\n",
        "#y_test = tf.keras.utils.to_categorical(y_test, num_classes=None, dtype='float32')\n",
        "y_test = to_categorical(y_test, 10)\n",
        "y_test.shape"
      ]
    },
    {
      "cell_type": "code",
      "execution_count": 16,
      "id": "6f4c5c99",
      "metadata": {
        "id": "6f4c5c99"
      },
      "outputs": [],
      "source": [
        "df_test.shape\n",
        "df_test.head()\n",
        "\n",
        "x_test = df_test.drop(columns='label')\n",
        "x_test = np.asarray(x_test)\n",
        "x_test.shape\n",
        "#x_test.head()\n",
        "x_test = x_test.reshape((10000, 28, 28,1))"
      ]
    },
    {
      "cell_type": "markdown",
      "id": "5a154630",
      "metadata": {
        "id": "5a154630"
      },
      "source": [
        "#  Import Package regarding CNN"
      ]
    },
    {
      "cell_type": "code",
      "execution_count": 17,
      "id": "4335c0a1",
      "metadata": {
        "colab": {
          "base_uri": "https://localhost:8080/"
        },
        "id": "4335c0a1",
        "outputId": "a5f18a59-ee59-42a0-dd42-afff0c89cd20"
      },
      "outputs": [
        {
          "output_type": "stream",
          "name": "stdout",
          "text": [
            "Requirement already satisfied: tensorflow in /usr/local/lib/python3.10/dist-packages (2.15.0)\n",
            "Requirement already satisfied: absl-py>=1.0.0 in /usr/local/lib/python3.10/dist-packages (from tensorflow) (1.4.0)\n",
            "Requirement already satisfied: astunparse>=1.6.0 in /usr/local/lib/python3.10/dist-packages (from tensorflow) (1.6.3)\n",
            "Requirement already satisfied: flatbuffers>=23.5.26 in /usr/local/lib/python3.10/dist-packages (from tensorflow) (23.5.26)\n",
            "Requirement already satisfied: gast!=0.5.0,!=0.5.1,!=0.5.2,>=0.2.1 in /usr/local/lib/python3.10/dist-packages (from tensorflow) (0.5.4)\n",
            "Requirement already satisfied: google-pasta>=0.1.1 in /usr/local/lib/python3.10/dist-packages (from tensorflow) (0.2.0)\n",
            "Requirement already satisfied: h5py>=2.9.0 in /usr/local/lib/python3.10/dist-packages (from tensorflow) (3.9.0)\n",
            "Requirement already satisfied: libclang>=13.0.0 in /usr/local/lib/python3.10/dist-packages (from tensorflow) (16.0.6)\n",
            "Requirement already satisfied: ml-dtypes~=0.2.0 in /usr/local/lib/python3.10/dist-packages (from tensorflow) (0.2.0)\n",
            "Requirement already satisfied: numpy<2.0.0,>=1.23.5 in /usr/local/lib/python3.10/dist-packages (from tensorflow) (1.25.2)\n",
            "Requirement already satisfied: opt-einsum>=2.3.2 in /usr/local/lib/python3.10/dist-packages (from tensorflow) (3.3.0)\n",
            "Requirement already satisfied: packaging in /usr/local/lib/python3.10/dist-packages (from tensorflow) (23.2)\n",
            "Requirement already satisfied: protobuf!=4.21.0,!=4.21.1,!=4.21.2,!=4.21.3,!=4.21.4,!=4.21.5,<5.0.0dev,>=3.20.3 in /usr/local/lib/python3.10/dist-packages (from tensorflow) (3.20.3)\n",
            "Requirement already satisfied: setuptools in /usr/local/lib/python3.10/dist-packages (from tensorflow) (67.7.2)\n",
            "Requirement already satisfied: six>=1.12.0 in /usr/local/lib/python3.10/dist-packages (from tensorflow) (1.16.0)\n",
            "Requirement already satisfied: termcolor>=1.1.0 in /usr/local/lib/python3.10/dist-packages (from tensorflow) (2.4.0)\n",
            "Requirement already satisfied: typing-extensions>=3.6.6 in /usr/local/lib/python3.10/dist-packages (from tensorflow) (4.9.0)\n",
            "Requirement already satisfied: wrapt<1.15,>=1.11.0 in /usr/local/lib/python3.10/dist-packages (from tensorflow) (1.14.1)\n",
            "Requirement already satisfied: tensorflow-io-gcs-filesystem>=0.23.1 in /usr/local/lib/python3.10/dist-packages (from tensorflow) (0.36.0)\n",
            "Requirement already satisfied: grpcio<2.0,>=1.24.3 in /usr/local/lib/python3.10/dist-packages (from tensorflow) (1.60.1)\n",
            "Requirement already satisfied: tensorboard<2.16,>=2.15 in /usr/local/lib/python3.10/dist-packages (from tensorflow) (2.15.2)\n",
            "Requirement already satisfied: tensorflow-estimator<2.16,>=2.15.0 in /usr/local/lib/python3.10/dist-packages (from tensorflow) (2.15.0)\n",
            "Requirement already satisfied: keras<2.16,>=2.15.0 in /usr/local/lib/python3.10/dist-packages (from tensorflow) (2.15.0)\n",
            "Requirement already satisfied: wheel<1.0,>=0.23.0 in /usr/local/lib/python3.10/dist-packages (from astunparse>=1.6.0->tensorflow) (0.42.0)\n",
            "Requirement already satisfied: google-auth<3,>=1.6.3 in /usr/local/lib/python3.10/dist-packages (from tensorboard<2.16,>=2.15->tensorflow) (2.27.0)\n",
            "Requirement already satisfied: google-auth-oauthlib<2,>=0.5 in /usr/local/lib/python3.10/dist-packages (from tensorboard<2.16,>=2.15->tensorflow) (1.2.0)\n",
            "Requirement already satisfied: markdown>=2.6.8 in /usr/local/lib/python3.10/dist-packages (from tensorboard<2.16,>=2.15->tensorflow) (3.5.2)\n",
            "Requirement already satisfied: requests<3,>=2.21.0 in /usr/local/lib/python3.10/dist-packages (from tensorboard<2.16,>=2.15->tensorflow) (2.31.0)\n",
            "Requirement already satisfied: tensorboard-data-server<0.8.0,>=0.7.0 in /usr/local/lib/python3.10/dist-packages (from tensorboard<2.16,>=2.15->tensorflow) (0.7.2)\n",
            "Requirement already satisfied: werkzeug>=1.0.1 in /usr/local/lib/python3.10/dist-packages (from tensorboard<2.16,>=2.15->tensorflow) (3.0.1)\n",
            "Requirement already satisfied: cachetools<6.0,>=2.0.0 in /usr/local/lib/python3.10/dist-packages (from google-auth<3,>=1.6.3->tensorboard<2.16,>=2.15->tensorflow) (5.3.2)\n",
            "Requirement already satisfied: pyasn1-modules>=0.2.1 in /usr/local/lib/python3.10/dist-packages (from google-auth<3,>=1.6.3->tensorboard<2.16,>=2.15->tensorflow) (0.3.0)\n",
            "Requirement already satisfied: rsa<5,>=3.1.4 in /usr/local/lib/python3.10/dist-packages (from google-auth<3,>=1.6.3->tensorboard<2.16,>=2.15->tensorflow) (4.9)\n",
            "Requirement already satisfied: requests-oauthlib>=0.7.0 in /usr/local/lib/python3.10/dist-packages (from google-auth-oauthlib<2,>=0.5->tensorboard<2.16,>=2.15->tensorflow) (1.3.1)\n",
            "Requirement already satisfied: charset-normalizer<4,>=2 in /usr/local/lib/python3.10/dist-packages (from requests<3,>=2.21.0->tensorboard<2.16,>=2.15->tensorflow) (3.3.2)\n",
            "Requirement already satisfied: idna<4,>=2.5 in /usr/local/lib/python3.10/dist-packages (from requests<3,>=2.21.0->tensorboard<2.16,>=2.15->tensorflow) (3.6)\n",
            "Requirement already satisfied: urllib3<3,>=1.21.1 in /usr/local/lib/python3.10/dist-packages (from requests<3,>=2.21.0->tensorboard<2.16,>=2.15->tensorflow) (2.0.7)\n",
            "Requirement already satisfied: certifi>=2017.4.17 in /usr/local/lib/python3.10/dist-packages (from requests<3,>=2.21.0->tensorboard<2.16,>=2.15->tensorflow) (2024.2.2)\n",
            "Requirement already satisfied: MarkupSafe>=2.1.1 in /usr/local/lib/python3.10/dist-packages (from werkzeug>=1.0.1->tensorboard<2.16,>=2.15->tensorflow) (2.1.5)\n",
            "Requirement already satisfied: pyasn1<0.6.0,>=0.4.6 in /usr/local/lib/python3.10/dist-packages (from pyasn1-modules>=0.2.1->google-auth<3,>=1.6.3->tensorboard<2.16,>=2.15->tensorflow) (0.5.1)\n",
            "Requirement already satisfied: oauthlib>=3.0.0 in /usr/local/lib/python3.10/dist-packages (from requests-oauthlib>=0.7.0->google-auth-oauthlib<2,>=0.5->tensorboard<2.16,>=2.15->tensorflow) (3.2.2)\n"
          ]
        }
      ],
      "source": [
        "pip install tensorflow"
      ]
    },
    {
      "cell_type": "code",
      "execution_count": 18,
      "id": "615d2262",
      "metadata": {
        "id": "615d2262"
      },
      "outputs": [],
      "source": [
        "import tensorflow as tf\n",
        "from tensorflow import keras\n",
        "from tensorflow.keras.models import Sequential\n",
        "from tensorflow.keras.layers import Conv2D, MaxPooling2D # the only thing new in CNN\n",
        "from tensorflow.keras.layers import Dense, Flatten\n",
        "from tensorflow.keras.optimizers import SGD"
      ]
    },
    {
      "cell_type": "code",
      "execution_count": 48,
      "id": "301b09a6",
      "metadata": {
        "id": "301b09a6",
        "colab": {
          "base_uri": "https://localhost:8080/"
        },
        "outputId": "2ea34373-9c53-4059-dd59-b54fbac31a2c"
      },
      "outputs": [
        {
          "output_type": "stream",
          "name": "stdout",
          "text": [
            "Model: \"sequential_3\"\n",
            "_________________________________________________________________\n",
            " Layer (type)                Output Shape              Param #   \n",
            "=================================================================\n",
            " conv2d_6 (Conv2D)           (None, 26, 26, 32)        320       \n",
            "                                                                 \n",
            " max_pooling2d_6 (MaxPoolin  (None, 13, 13, 32)        0         \n",
            " g2D)                                                            \n",
            "                                                                 \n",
            " conv2d_7 (Conv2D)           (None, 11, 11, 32)        9248      \n",
            "                                                                 \n",
            " max_pooling2d_7 (MaxPoolin  (None, 5, 5, 32)          0         \n",
            " g2D)                                                            \n",
            "                                                                 \n",
            " flatten_3 (Flatten)         (None, 800)               0         \n",
            "                                                                 \n",
            " dense_9 (Dense)             (None, 64)                51264     \n",
            "                                                                 \n",
            " dense_10 (Dense)            (None, 64)                4160      \n",
            "                                                                 \n",
            " dense_11 (Dense)            (None, 10)                650       \n",
            "                                                                 \n",
            "=================================================================\n",
            "Total params: 65642 (256.41 KB)\n",
            "Trainable params: 65642 (256.41 KB)\n",
            "Non-trainable params: 0 (0.00 Byte)\n",
            "_________________________________________________________________\n"
          ]
        }
      ],
      "source": [
        "model = Sequential()\n",
        "model.add(Conv2D(32, kernel_size=(3, 3), activation='relu', input_shape=(28, 28, 1)))\n",
        "model.add(MaxPooling2D(pool_size=(2, 2)))\n",
        "model.add(Conv2D(32, kernel_size=(3, 3), activation='relu'))\n",
        "model.add(MaxPooling2D(pool_size=(2, 2)))\n",
        "model.add(Flatten())\n",
        "model.add(Dense(64, activation='sigmoid'))\n",
        "model.add(Dense(64, activation='sigmoid'))\n",
        "\n",
        "model.add(Dense(10, activation='softmax'))\n",
        "\n",
        "model.compile(loss='mse',optimizer='Adam',metrics=['accuracy'])\n",
        "model.summary()"
      ]
    },
    {
      "cell_type": "markdown",
      "id": "bd8fc68e",
      "metadata": {
        "id": "bd8fc68e"
      },
      "source": [
        "# Step 2: Goodness of function"
      ]
    },
    {
      "cell_type": "code",
      "execution_count": 49,
      "id": "ea387ad0",
      "metadata": {
        "id": "ea387ad0",
        "colab": {
          "base_uri": "https://localhost:8080/"
        },
        "outputId": "e10e1fd7-8691-4e43-b929-1627c6c7c249"
      },
      "outputs": [
        {
          "output_type": "stream",
          "name": "stdout",
          "text": [
            "Epoch 1/80\n",
            "11/11 [==============================] - 2s 69ms/step - loss: 0.0874 - accuracy: 0.2756\n",
            "Epoch 2/80\n",
            "11/11 [==============================] - 1s 61ms/step - loss: 0.0812 - accuracy: 0.4776\n",
            "Epoch 3/80\n",
            "11/11 [==============================] - 1s 60ms/step - loss: 0.0761 - accuracy: 0.6149\n",
            "Epoch 4/80\n",
            "11/11 [==============================] - 1s 60ms/step - loss: 0.0701 - accuracy: 0.6463\n",
            "Epoch 5/80\n",
            "11/11 [==============================] - 1s 60ms/step - loss: 0.0634 - accuracy: 0.6883\n",
            "Epoch 6/80\n",
            "11/11 [==============================] - 1s 61ms/step - loss: 0.0567 - accuracy: 0.7422\n",
            "Epoch 7/80\n",
            "11/11 [==============================] - 1s 61ms/step - loss: 0.0503 - accuracy: 0.7664\n",
            "Epoch 8/80\n",
            "11/11 [==============================] - 1s 61ms/step - loss: 0.0446 - accuracy: 0.7861\n",
            "Epoch 9/80\n",
            "11/11 [==============================] - 1s 65ms/step - loss: 0.0395 - accuracy: 0.7977\n",
            "Epoch 10/80\n",
            "11/11 [==============================] - 1s 69ms/step - loss: 0.0353 - accuracy: 0.8081\n",
            "Epoch 11/80\n",
            "11/11 [==============================] - 1s 72ms/step - loss: 0.0319 - accuracy: 0.8171\n",
            "Epoch 12/80\n",
            "11/11 [==============================] - 1s 72ms/step - loss: 0.0291 - accuracy: 0.8246\n",
            "Epoch 13/80\n",
            "11/11 [==============================] - 1s 66ms/step - loss: 0.0268 - accuracy: 0.8340\n",
            "Epoch 14/80\n",
            "11/11 [==============================] - 1s 61ms/step - loss: 0.0248 - accuracy: 0.8547\n",
            "Epoch 15/80\n",
            "11/11 [==============================] - 1s 61ms/step - loss: 0.0231 - accuracy: 0.8639\n",
            "Epoch 16/80\n",
            "11/11 [==============================] - 1s 62ms/step - loss: 0.0217 - accuracy: 0.8714\n",
            "Epoch 17/80\n",
            "11/11 [==============================] - 1s 61ms/step - loss: 0.0203 - accuracy: 0.8795\n",
            "Epoch 18/80\n",
            "11/11 [==============================] - 1s 61ms/step - loss: 0.0190 - accuracy: 0.8853\n",
            "Epoch 19/80\n",
            "11/11 [==============================] - 1s 61ms/step - loss: 0.0182 - accuracy: 0.8890\n",
            "Epoch 20/80\n",
            "11/11 [==============================] - 1s 62ms/step - loss: 0.0174 - accuracy: 0.8920\n",
            "Epoch 21/80\n",
            "11/11 [==============================] - 1s 62ms/step - loss: 0.0166 - accuracy: 0.8952\n",
            "Epoch 22/80\n",
            "11/11 [==============================] - 1s 62ms/step - loss: 0.0161 - accuracy: 0.8982\n",
            "Epoch 23/80\n",
            "11/11 [==============================] - 1s 62ms/step - loss: 0.0155 - accuracy: 0.9017\n",
            "Epoch 24/80\n",
            "11/11 [==============================] - 1s 61ms/step - loss: 0.0148 - accuracy: 0.9065\n",
            "Epoch 25/80\n",
            "11/11 [==============================] - 1s 60ms/step - loss: 0.0144 - accuracy: 0.9083\n",
            "Epoch 26/80\n",
            "11/11 [==============================] - 1s 61ms/step - loss: 0.0142 - accuracy: 0.9093\n",
            "Epoch 27/80\n",
            "11/11 [==============================] - 1s 61ms/step - loss: 0.0137 - accuracy: 0.9120\n",
            "Epoch 28/80\n",
            "11/11 [==============================] - 1s 70ms/step - loss: 0.0134 - accuracy: 0.9153\n",
            "Epoch 29/80\n",
            "11/11 [==============================] - 1s 73ms/step - loss: 0.0132 - accuracy: 0.9158\n",
            "Epoch 30/80\n",
            "11/11 [==============================] - 1s 66ms/step - loss: 0.0129 - accuracy: 0.9182\n",
            "Epoch 31/80\n",
            "11/11 [==============================] - 1s 73ms/step - loss: 0.0124 - accuracy: 0.9226\n",
            "Epoch 32/80\n",
            "11/11 [==============================] - 1s 60ms/step - loss: 0.0121 - accuracy: 0.9235\n",
            "Epoch 33/80\n",
            "11/11 [==============================] - 1s 61ms/step - loss: 0.0120 - accuracy: 0.9244\n",
            "Epoch 34/80\n",
            "11/11 [==============================] - 1s 61ms/step - loss: 0.0119 - accuracy: 0.9252\n",
            "Epoch 35/80\n",
            "11/11 [==============================] - 1s 62ms/step - loss: 0.0115 - accuracy: 0.9282\n",
            "Epoch 36/80\n",
            "11/11 [==============================] - 1s 60ms/step - loss: 0.0112 - accuracy: 0.9294\n",
            "Epoch 37/80\n",
            "11/11 [==============================] - 1s 63ms/step - loss: 0.0109 - accuracy: 0.9330\n",
            "Epoch 38/80\n",
            "11/11 [==============================] - 1s 62ms/step - loss: 0.0108 - accuracy: 0.9332\n",
            "Epoch 39/80\n",
            "11/11 [==============================] - 1s 62ms/step - loss: 0.0107 - accuracy: 0.9341\n",
            "Epoch 40/80\n",
            "11/11 [==============================] - 1s 62ms/step - loss: 0.0106 - accuracy: 0.9343\n",
            "Epoch 41/80\n",
            "11/11 [==============================] - 1s 61ms/step - loss: 0.0102 - accuracy: 0.9377\n",
            "Epoch 42/80\n",
            "11/11 [==============================] - 1s 60ms/step - loss: 0.0100 - accuracy: 0.9387\n",
            "Epoch 43/80\n",
            "11/11 [==============================] - 1s 62ms/step - loss: 0.0099 - accuracy: 0.9395\n",
            "Epoch 44/80\n",
            "11/11 [==============================] - 1s 62ms/step - loss: 0.0098 - accuracy: 0.9394\n",
            "Epoch 45/80\n",
            "11/11 [==============================] - 1s 61ms/step - loss: 0.0094 - accuracy: 0.9433\n",
            "Epoch 46/80\n",
            "11/11 [==============================] - 1s 63ms/step - loss: 0.0093 - accuracy: 0.9437\n",
            "Epoch 47/80\n",
            "11/11 [==============================] - 1s 72ms/step - loss: 0.0094 - accuracy: 0.9427\n",
            "Epoch 48/80\n",
            "11/11 [==============================] - 1s 73ms/step - loss: 0.0093 - accuracy: 0.9434\n",
            "Epoch 49/80\n",
            "11/11 [==============================] - 1s 71ms/step - loss: 0.0092 - accuracy: 0.9439\n",
            "Epoch 50/80\n",
            "11/11 [==============================] - 1s 65ms/step - loss: 0.0089 - accuracy: 0.9470\n",
            "Epoch 51/80\n",
            "11/11 [==============================] - 1s 60ms/step - loss: 0.0086 - accuracy: 0.9493\n",
            "Epoch 52/80\n",
            "11/11 [==============================] - 1s 60ms/step - loss: 0.0085 - accuracy: 0.9493\n",
            "Epoch 53/80\n",
            "11/11 [==============================] - 1s 63ms/step - loss: 0.0085 - accuracy: 0.9492\n",
            "Epoch 54/80\n",
            "11/11 [==============================] - 1s 62ms/step - loss: 0.0083 - accuracy: 0.9504\n",
            "Epoch 55/80\n",
            "11/11 [==============================] - 1s 62ms/step - loss: 0.0081 - accuracy: 0.9528\n",
            "Epoch 56/80\n",
            "11/11 [==============================] - 1s 61ms/step - loss: 0.0079 - accuracy: 0.9538\n",
            "Epoch 57/80\n",
            "11/11 [==============================] - 1s 61ms/step - loss: 0.0078 - accuracy: 0.9547\n",
            "Epoch 58/80\n",
            "11/11 [==============================] - 1s 61ms/step - loss: 0.0077 - accuracy: 0.9554\n",
            "Epoch 59/80\n",
            "11/11 [==============================] - 1s 61ms/step - loss: 0.0076 - accuracy: 0.9559\n",
            "Epoch 60/80\n",
            "11/11 [==============================] - 1s 61ms/step - loss: 0.0076 - accuracy: 0.9552\n",
            "Epoch 61/80\n",
            "11/11 [==============================] - 1s 60ms/step - loss: 0.0073 - accuracy: 0.9582\n",
            "Epoch 62/80\n",
            "11/11 [==============================] - 1s 61ms/step - loss: 0.0072 - accuracy: 0.9586\n",
            "Epoch 63/80\n",
            "11/11 [==============================] - 1s 61ms/step - loss: 0.0071 - accuracy: 0.9593\n",
            "Epoch 64/80\n",
            "11/11 [==============================] - 1s 62ms/step - loss: 0.0069 - accuracy: 0.9607\n",
            "Epoch 65/80\n",
            "11/11 [==============================] - 1s 67ms/step - loss: 0.0069 - accuracy: 0.9606\n",
            "Epoch 66/80\n",
            "11/11 [==============================] - 1s 69ms/step - loss: 0.0068 - accuracy: 0.9617\n",
            "Epoch 67/80\n",
            "11/11 [==============================] - 1s 68ms/step - loss: 0.0067 - accuracy: 0.9617\n",
            "Epoch 68/80\n",
            "11/11 [==============================] - 1s 73ms/step - loss: 0.0066 - accuracy: 0.9627\n",
            "Epoch 69/80\n",
            "11/11 [==============================] - 1s 62ms/step - loss: 0.0064 - accuracy: 0.9642\n",
            "Epoch 70/80\n",
            "11/11 [==============================] - 1s 60ms/step - loss: 0.0065 - accuracy: 0.9636\n",
            "Epoch 71/80\n",
            "11/11 [==============================] - 1s 60ms/step - loss: 0.0064 - accuracy: 0.9641\n",
            "Epoch 72/80\n",
            "11/11 [==============================] - 1s 61ms/step - loss: 0.0062 - accuracy: 0.9653\n",
            "Epoch 73/80\n",
            "11/11 [==============================] - 1s 60ms/step - loss: 0.0063 - accuracy: 0.9642\n",
            "Epoch 74/80\n",
            "11/11 [==============================] - 1s 63ms/step - loss: 0.0064 - accuracy: 0.9635\n",
            "Epoch 75/80\n",
            "11/11 [==============================] - 1s 61ms/step - loss: 0.0061 - accuracy: 0.9654\n",
            "Epoch 76/80\n",
            "11/11 [==============================] - 1s 61ms/step - loss: 0.0060 - accuracy: 0.9664\n",
            "Epoch 77/80\n",
            "11/11 [==============================] - 1s 62ms/step - loss: 0.0062 - accuracy: 0.9652\n",
            "Epoch 78/80\n",
            "11/11 [==============================] - 1s 60ms/step - loss: 0.0061 - accuracy: 0.9653\n",
            "Epoch 79/80\n",
            "11/11 [==============================] - 1s 60ms/step - loss: 0.0058 - accuracy: 0.9675\n",
            "Epoch 80/80\n",
            "11/11 [==============================] - 1s 60ms/step - loss: 0.0056 - accuracy: 0.9688\n"
          ]
        }
      ],
      "source": [
        "model_result = model.fit(x_train, y_train, batch_size=5600, epochs=80)"
      ]
    },
    {
      "cell_type": "code",
      "source": [
        "score = model.evaluate(x_test, y_test, verbose=0)\n",
        "print('Test loss:', score[0])\n",
        "print('Test accuracy:', score[1])"
      ],
      "metadata": {
        "colab": {
          "base_uri": "https://localhost:8080/"
        },
        "id": "1HTXtF0o0w2U",
        "outputId": "862f5258-7312-47a4-deda-77d3e1d07889"
      },
      "id": "1HTXtF0o0w2U",
      "execution_count": 32,
      "outputs": [
        {
          "output_type": "stream",
          "name": "stdout",
          "text": [
            "Test loss: 0.013638008385896683\n",
            "Test accuracy: 0.9077000021934509\n"
          ]
        }
      ]
    },
    {
      "cell_type": "code",
      "source": [
        "nn_result = model_result\n",
        "\n",
        "fig, ax1 = plt.subplots()\n",
        "ax2 = ax1.twinx()\n",
        "\n",
        "ax1.plot(nn_result.history[\"accuracy\"], color = \"g\", label = \"R2\")\n",
        "ax2.plot(nn_result.history[\"loss\"], color = \"b\", label = \"Loss\")\n",
        "\n",
        "ax1.set_ylabel(\"accuracy\", color = \"g\")\n",
        "ax2.set_ylabel(\"loss\", color = \"b\")\n",
        "\n",
        "plt.title(\"Model Accuracy\")\n",
        "plt.xlabel(\"epoch\")\n",
        "fig.legend()\n",
        "plt.show()\n",
        "\n",
        "print(\"Brief view on the result of training.\")"
      ],
      "metadata": {
        "colab": {
          "base_uri": "https://localhost:8080/",
          "height": 497
        },
        "id": "aSfvF8G_5UD-",
        "outputId": "25303c67-6c1d-463b-f1fe-b08787f81b8f"
      },
      "id": "aSfvF8G_5UD-",
      "execution_count": 53,
      "outputs": [
        {
          "output_type": "display_data",
          "data": {
            "text/plain": [
              "<Figure size 640x480 with 2 Axes>"
            ],
            "image/png": "[encoded data removed]"
          },
          "metadata": {}
        },
        {
          "output_type": "stream",
          "name": "stdout",
          "text": [
            "Brief view on the result of training.\n"
          ]
        }
      ]
    }
  ],
  "metadata": {
    "kernelspec": {
      "display_name": "Python 3 (ipykernel)",
      "language": "python",
      "name": "python3"
    },
    "language_info": {
      "codemirror_mode": {
        "name": "ipython",
        "version": 3
      },
      "file_extension": ".py",
      "mimetype": "text/x-python",
      "name": "python",
      "nbconvert_exporter": "python",
      "pygments_lexer": "ipython3",
      "version": "3.9.13"
    },
    "colab": {
      "provenance": []
    },
    "accelerator": "GPU",
    "gpuClass": "standard"
  },
  "nbformat": 4,
  "nbformat_minor": 5
}